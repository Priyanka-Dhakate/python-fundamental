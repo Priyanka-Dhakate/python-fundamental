{
 "cells": [
  {
   "cell_type": "markdown",
   "id": "52eb37ad",
   "metadata": {},
   "source": [
    "## Bitwise And"
   ]
  },
  {
   "cell_type": "code",
   "execution_count": 1,
   "id": "866b874c",
   "metadata": {},
   "outputs": [
    {
     "data": {
      "text/plain": [
       "12"
      ]
     },
     "execution_count": 1,
     "metadata": {},
     "output_type": "execute_result"
    }
   ],
   "source": [
    "a=60\n",
    "b=13\n",
    "a & b"
   ]
  },
  {
   "cell_type": "code",
   "execution_count": 2,
   "id": "3cdf79a9",
   "metadata": {},
   "outputs": [
    {
     "data": {
      "text/plain": [
       "0"
      ]
     },
     "execution_count": 2,
     "metadata": {},
     "output_type": "execute_result"
    }
   ],
   "source": [
    "a=10\n",
    "b=5\n",
    "a & b"
   ]
  },
  {
   "cell_type": "markdown",
   "id": "1da1e0d2",
   "metadata": {},
   "source": [
    "## Bitwise OR"
   ]
  },
  {
   "cell_type": "code",
   "execution_count": 9,
   "id": "a0138d66",
   "metadata": {},
   "outputs": [
    {
     "data": {
      "text/plain": [
       "15"
      ]
     },
     "execution_count": 9,
     "metadata": {},
     "output_type": "execute_result"
    }
   ],
   "source": [
    "a | b"
   ]
  },
  {
   "cell_type": "markdown",
   "id": "296a6043",
   "metadata": {},
   "source": [
    "## Bitwise NOT"
   ]
  },
  {
   "cell_type": "code",
   "execution_count": 17,
   "id": "b6add7f3",
   "metadata": {},
   "outputs": [
    {
     "data": {
      "text/plain": [
       "-8"
      ]
     },
     "execution_count": 17,
     "metadata": {},
     "output_type": "execute_result"
    }
   ],
   "source": [
    "a=7\n",
    "~a"
   ]
  },
  {
   "cell_type": "markdown",
   "id": "6d340992",
   "metadata": {},
   "source": [
    "##### Evaluating Expression"
   ]
  },
  {
   "cell_type": "code",
   "execution_count": 5,
   "id": "49ddd43e",
   "metadata": {},
   "outputs": [
    {
     "name": "stdout",
     "output_type": "stream",
     "text": [
      "60\n"
     ]
    }
   ],
   "source": [
    "#using eval function\n",
    "s=\"x*(x+1)*(x+2)\"\n",
    "x=3\n",
    "expression=eval(s)\n",
    "print(expression)"
   ]
  },
  {
   "cell_type": "code",
   "execution_count": 6,
   "id": "3c9a2462",
   "metadata": {},
   "outputs": [
    {
     "data": {
      "text/plain": [
       "9"
      ]
     },
     "execution_count": 6,
     "metadata": {},
     "output_type": "execute_result"
    }
   ],
   "source": [
    "3**2"
   ]
  },
  {
   "cell_type": "code",
   "execution_count": 8,
   "id": "19b08d4d",
   "metadata": {},
   "outputs": [
    {
     "data": {
      "text/plain": [
       "512"
      ]
     },
     "execution_count": 8,
     "metadata": {},
     "output_type": "execute_result"
    }
   ],
   "source": [
    "2**9"
   ]
  },
  {
   "cell_type": "markdown",
   "id": "2c545a93",
   "metadata": {},
   "source": [
    "##### Left-right associativity"
   ]
  },
  {
   "cell_type": "code",
   "execution_count": 11,
   "id": "98058038",
   "metadata": {},
   "outputs": [
    {
     "name": "stdout",
     "output_type": "stream",
     "text": [
      "3\n"
     ]
    }
   ],
   "source": [
    "print(5*2//3)"
   ]
  },
  {
   "cell_type": "code",
   "execution_count": 12,
   "id": "50068415",
   "metadata": {},
   "outputs": [
    {
     "name": "stdout",
     "output_type": "stream",
     "text": [
      "0\n"
     ]
    }
   ],
   "source": [
    "print(5*(2//3))"
   ]
  },
  {
   "cell_type": "markdown",
   "id": "8bac4385",
   "metadata": {},
   "source": [
    "##### Right-left associativity"
   ]
  },
  {
   "cell_type": "code",
   "execution_count": 13,
   "id": "c998cec4",
   "metadata": {},
   "outputs": [
    {
     "name": "stdout",
     "output_type": "stream",
     "text": [
      "512\n"
     ]
    }
   ],
   "source": [
    "print(2**3**2)"
   ]
  },
  {
   "cell_type": "code",
   "execution_count": 14,
   "id": "fb7414d8",
   "metadata": {},
   "outputs": [
    {
     "name": "stdout",
     "output_type": "stream",
     "text": [
      "64\n"
     ]
    }
   ],
   "source": [
    "print((2**3)**2)"
   ]
  },
  {
   "cell_type": "code",
   "execution_count": null,
   "id": "c8e61b04",
   "metadata": {},
   "outputs": [],
   "source": []
  }
 ],
 "metadata": {
  "kernelspec": {
   "display_name": "Python 3 (ipykernel)",
   "language": "python",
   "name": "python3"
  },
  "language_info": {
   "codemirror_mode": {
    "name": "ipython",
    "version": 3
   },
   "file_extension": ".py",
   "mimetype": "text/x-python",
   "name": "python",
   "nbconvert_exporter": "python",
   "pygments_lexer": "ipython3",
   "version": "3.11.4"
  }
 },
 "nbformat": 4,
 "nbformat_minor": 5
}
