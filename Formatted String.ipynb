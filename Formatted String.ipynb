{
 "cells": [
  {
   "cell_type": "code",
   "execution_count": 3,
   "id": "7c6757a5",
   "metadata": {},
   "outputs": [
    {
     "name": "stdout",
     "output_type": "stream",
     "text": [
      "A dog saysBark!\n",
      "A dog saysBark!\n",
      "A dog saysBark!\n"
     ]
    }
   ],
   "source": [
    "var='Bark'\n",
    "print(f'A dog says{var}!')\n",
    "print(f\"A dog says{var}!\")\n",
    "print(f'''A dog says{var}!''')"
   ]
  },
  {
   "cell_type": "code",
   "execution_count": 4,
   "id": "d504b0b7",
   "metadata": {},
   "outputs": [
    {
     "name": "stdout",
     "output_type": "stream",
     "text": [
      "Addition of 23 and 56 is 79\n"
     ]
    }
   ],
   "source": [
    "a=23\n",
    "b=56\n",
    "c=a+b\n",
    "print(\"Addition of\",a, \"and\", b, \"is\",c)"
   ]
  },
  {
   "cell_type": "markdown",
   "id": "467b1747",
   "metadata": {},
   "source": [
    "### using f string"
   ]
  },
  {
   "cell_type": "code",
   "execution_count": 5,
   "id": "e46c6de5",
   "metadata": {},
   "outputs": [
    {
     "name": "stdout",
     "output_type": "stream",
     "text": [
      "Addition of 23 and 56 is 79\n"
     ]
    }
   ],
   "source": [
    "a=23\n",
    "b=56\n",
    "c=a+b\n",
    "print(f\"Addition of {a} and {b} is {c}\")"
   ]
  },
  {
   "cell_type": "code",
   "execution_count": null,
   "id": "f0520d7c",
   "metadata": {},
   "outputs": [],
   "source": []
  }
 ],
 "metadata": {
  "kernelspec": {
   "display_name": "Python 3 (ipykernel)",
   "language": "python",
   "name": "python3"
  },
  "language_info": {
   "codemirror_mode": {
    "name": "ipython",
    "version": 3
   },
   "file_extension": ".py",
   "mimetype": "text/x-python",
   "name": "python",
   "nbconvert_exporter": "python",
   "pygments_lexer": "ipython3",
   "version": "3.11.4"
  }
 },
 "nbformat": 4,
 "nbformat_minor": 5
}
