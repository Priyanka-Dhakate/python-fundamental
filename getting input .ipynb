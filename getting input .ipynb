{
 "cells": [
  {
   "cell_type": "code",
   "execution_count": 1,
   "id": "9cb94cb8",
   "metadata": {},
   "outputs": [
    {
     "name": "stdout",
     "output_type": "stream",
     "text": [
      "sum is 18\n"
     ]
    }
   ],
   "source": [
    "a=15\n",
    "b=3\n",
    "c=a+b\n",
    "print(\"sum is\",c)"
   ]
  },
  {
   "cell_type": "code",
   "execution_count": 2,
   "id": "09f6f7d7",
   "metadata": {},
   "outputs": [
    {
     "name": "stdout",
     "output_type": "stream",
     "text": [
      "Difference is 12\n",
      "Product is 45\n"
     ]
    }
   ],
   "source": [
    "a=15\n",
    "b=3\n",
    "c=a-b\n",
    "print(\"Difference is\",c)\n",
    "c=a*b\n",
    "print(\"Product is\",c)"
   ]
  },
  {
   "cell_type": "markdown",
   "id": "8cb55b1c",
   "metadata": {},
   "source": [
    " "
   ]
  },
  {
   "cell_type": "code",
   "execution_count": 9,
   "id": "f79fa23f",
   "metadata": {},
   "outputs": [
    {
     "name": "stdout",
     "output_type": "stream",
     "text": [
      "Division is 12.5\n",
      "Remainder is 1\n",
      "Power is 625\n",
      "Floor division(Quotient) 12\n"
     ]
    }
   ],
   "source": [
    "a=25\n",
    "b=2\n",
    "c=a/b\n",
    "print(\"Division is\",c)\n",
    "c=a%b\n",
    "print(\"Remainder is\",c)\n",
    "c=a**b\n",
    "print(\"Power is\",c)\n",
    "c=a//b\n",
    "print(\"Floor division(Quotient)\",c)"
   ]
  },
  {
   "cell_type": "code",
   "execution_count": 1,
   "id": "2087f12d",
   "metadata": {},
   "outputs": [
    {
     "name": "stdout",
     "output_type": "stream",
     "text": [
      "Enter first number34\n",
      "Enter second number46\n",
      "sum is 80\n"
     ]
    }
   ],
   "source": [
    "A=int(input(\"Enter first number\"))\n",
    "B=int(input(\"Enter second number\"))\n",
    "C=A+B\n",
    "print(\"sum is\",C)"
   ]
  },
  {
   "cell_type": "code",
   "execution_count": 7,
   "id": "7e350df2",
   "metadata": {},
   "outputs": [
    {
     "name": "stdout",
     "output_type": "stream",
     "text": [
      "Enter first number15\n",
      "Enter second number3\n",
      "Difference is 12\n"
     ]
    }
   ],
   "source": [
    "A=int(input(\"Enter first number\"))\n",
    "B=int(input(\"Enter second number\"))\n",
    "C=A-B\n",
    "print(\"Difference is\",C)"
   ]
  },
  {
   "cell_type": "code",
   "execution_count": null,
   "id": "eb0f5501",
   "metadata": {},
   "outputs": [],
   "source": [
    "length=12\n",
    "breadth=3\n",
    "Area_of_rectangle=length*breadth\n",
    "print(\"Area_of_rectangle:\",Area_of_rectangle)"
   ]
  },
  {
   "cell_type": "code",
   "execution_count": 17,
   "id": "1bb1d733",
   "metadata": {
    "scrolled": true
   },
   "outputs": [
    {
     "name": "stdout",
     "output_type": "stream",
     "text": [
      "enter length12\n",
      "enter breadth3\n",
      "Area_of_rectangle: 36.0\n"
     ]
    }
   ],
   "source": [
    "length=float(input(\"enter length\"))\n",
    "breadth=int(input(\"enter breadth\"))\n",
    "Area_of_rectangle=length*breadth\n",
    "print(\"Area_of_rectangle:\",Area_of_rectangle)"
   ]
  },
  {
   "cell_type": "markdown",
   "id": "d85dcffd",
   "metadata": {},
   "source": [
    "#### Perimeter of Rectangle"
   ]
  },
  {
   "cell_type": "code",
   "execution_count": 19,
   "id": "4de4838a",
   "metadata": {},
   "outputs": [
    {
     "name": "stdout",
     "output_type": "stream",
     "text": [
      "perimeter_of_rectangle: 40\n"
     ]
    }
   ],
   "source": [
    "length=15\n",
    "breadth=5\n",
    "perimeter_of_rectangle=2*(length+breadth)\n",
    "print(\"perimeter_of_rectangle:\",perimeter_of_rectangle)"
   ]
  },
  {
   "cell_type": "code",
   "execution_count": 20,
   "id": "e2afb967",
   "metadata": {},
   "outputs": [
    {
     "name": "stdout",
     "output_type": "stream",
     "text": [
      "enter length12\n",
      "enter breadth3\n",
      "perimeter_of_rectangle: 30\n"
     ]
    }
   ],
   "source": [
    "length=int(input(\"enter length\"))\n",
    "breadth=int(input(\"enter breadth\"))\n",
    "perimeter_of_rectangle=2*(length+breadth)\n",
    "print(\"perimeter_of_rectangle:\",perimeter_of_rectangle)"
   ]
  },
  {
   "cell_type": "markdown",
   "id": "ae38b7ba",
   "metadata": {},
   "source": [
    "## Area of circle"
   ]
  },
  {
   "cell_type": "code",
   "execution_count": 22,
   "id": "67e0b0be",
   "metadata": {},
   "outputs": [
    {
     "name": "stdout",
     "output_type": "stream",
     "text": [
      "area_of_circle: 1519.76\n"
     ]
    }
   ],
   "source": [
    "r=22\n",
    "area_of_circle=3.14*r*r\n",
    "print(\"area_of_circle:\",area_of_circle)"
   ]
  },
  {
   "cell_type": "code",
   "execution_count": 23,
   "id": "c96bb509",
   "metadata": {},
   "outputs": [
    {
     "name": "stdout",
     "output_type": "stream",
     "text": [
      "enter radius22\n",
      "area_of_circle: 1519.76\n"
     ]
    }
   ],
   "source": [
    "r=int(input(\"enter radius\"))\n",
    "area_of_circle=3.14*r*r\n",
    "print(\"area_of_circle:\",area_of_circle)"
   ]
  },
  {
   "cell_type": "code",
   "execution_count": 24,
   "id": "e97d6f20",
   "metadata": {},
   "outputs": [
    {
     "name": "stdout",
     "output_type": "stream",
     "text": [
      "perimeter_of_circle: 1519.76\n"
     ]
    }
   ],
   "source": [
    "r=22\n",
    "perimeter_of_circle=2*3.14*r\n",
    "print(\"perimeter_of_circle:\",area_of_circle)"
   ]
  },
  {
   "cell_type": "code",
   "execution_count": 25,
   "id": "77dfd2bf",
   "metadata": {},
   "outputs": [
    {
     "name": "stdout",
     "output_type": "stream",
     "text": [
      "enter radius22\n",
      "perimeter_of_circle: 1519.76\n"
     ]
    }
   ],
   "source": [
    "r=int(input(\"enter radius\"))\n",
    "perimeter_of_circle=2*3.14*r\n",
    "print(\"perimeter_of_circle:\",area_of_circle)"
   ]
  },
  {
   "cell_type": "code",
   "execution_count": 26,
   "id": "e6d9eb9b",
   "metadata": {},
   "outputs": [],
   "source": [
    "import math"
   ]
  },
  {
   "cell_type": "code",
   "execution_count": 27,
   "id": "ab7c54c3",
   "metadata": {},
   "outputs": [
    {
     "data": {
      "text/plain": [
       "3.141592653589793"
      ]
     },
     "execution_count": 27,
     "metadata": {},
     "output_type": "execute_result"
    }
   ],
   "source": [
    "math.pi"
   ]
  },
  {
   "cell_type": "code",
   "execution_count": null,
   "id": "30e68f30",
   "metadata": {},
   "outputs": [],
   "source": []
  }
 ],
 "metadata": {
  "kernelspec": {
   "display_name": "Python 3 (ipykernel)",
   "language": "python",
   "name": "python3"
  },
  "language_info": {
   "codemirror_mode": {
    "name": "ipython",
    "version": 3
   },
   "file_extension": ".py",
   "mimetype": "text/x-python",
   "name": "python",
   "nbconvert_exporter": "python",
   "pygments_lexer": "ipython3",
   "version": "3.11.4"
  }
 },
 "nbformat": 4,
 "nbformat_minor": 5
}
