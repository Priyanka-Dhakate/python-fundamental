{
 "cells": [
  {
   "cell_type": "code",
   "execution_count": 1,
   "id": "ac4cc92c",
   "metadata": {},
   "outputs": [
    {
     "name": "stdout",
     "output_type": "stream",
     "text": [
      "p\n"
     ]
    }
   ],
   "source": [
    "my_list=['p','r','o','b','e']\n",
    "print(my_list[0])"
   ]
  },
  {
   "cell_type": "code",
   "execution_count": 3,
   "id": "b075f8ff",
   "metadata": {},
   "outputs": [
    {
     "name": "stdout",
     "output_type": "stream",
     "text": [
      "o\n"
     ]
    }
   ],
   "source": [
    "print(my_list[2])"
   ]
  },
  {
   "cell_type": "code",
   "execution_count": 4,
   "id": "780ce1c8",
   "metadata": {},
   "outputs": [
    {
     "name": "stdout",
     "output_type": "stream",
     "text": [
      "e\n"
     ]
    }
   ],
   "source": [
    "print(my_list[4])"
   ]
  },
  {
   "cell_type": "markdown",
   "id": "de25287e",
   "metadata": {},
   "source": [
    "##### Nested List"
   ]
  },
  {
   "cell_type": "code",
   "execution_count": 6,
   "id": "3fac0db0",
   "metadata": {},
   "outputs": [
    {
     "name": "stdout",
     "output_type": "stream",
     "text": [
      "a\n"
     ]
    }
   ],
   "source": [
    "n_list=[\"Happy\", [2,0,1,5]]\n",
    "print(n_list[0][1])"
   ]
  },
  {
   "cell_type": "code",
   "execution_count": 8,
   "id": "ffb9aa33",
   "metadata": {},
   "outputs": [
    {
     "name": "stdout",
     "output_type": "stream",
     "text": [
      "1\n"
     ]
    }
   ],
   "source": [
    "print(n_list[1][2])"
   ]
  },
  {
   "cell_type": "code",
   "execution_count": 9,
   "id": "2205e9df",
   "metadata": {},
   "outputs": [
    {
     "name": "stdout",
     "output_type": "stream",
     "text": [
      "5\n"
     ]
    }
   ],
   "source": [
    "print(n_list[1][3])"
   ]
  },
  {
   "cell_type": "code",
   "execution_count": 10,
   "id": "96c98c82",
   "metadata": {},
   "outputs": [
    {
     "name": "stdout",
     "output_type": "stream",
     "text": [
      "e\n"
     ]
    }
   ],
   "source": [
    "print(my_list[-1])"
   ]
  },
  {
   "cell_type": "code",
   "execution_count": 11,
   "id": "e8cf04e9",
   "metadata": {},
   "outputs": [
    {
     "name": "stdout",
     "output_type": "stream",
     "text": [
      "p\n"
     ]
    }
   ],
   "source": [
    "print(my_list[-5])"
   ]
  },
  {
   "cell_type": "markdown",
   "id": "5f5cb974",
   "metadata": {},
   "source": [
    "### List Slicing"
   ]
  },
  {
   "cell_type": "code",
   "execution_count": 12,
   "id": "4454d79a",
   "metadata": {},
   "outputs": [
    {
     "name": "stdout",
     "output_type": "stream",
     "text": [
      "['o', 'g', 'r']\n"
     ]
    }
   ],
   "source": [
    "my_list=['p','r','o','g','r','a','m','i','z']\n",
    "#element from index 2 to index 4\n",
    "print(my_list[2:5])"
   ]
  },
  {
   "cell_type": "code",
   "execution_count": 13,
   "id": "2d301afd",
   "metadata": {},
   "outputs": [
    {
     "name": "stdout",
     "output_type": "stream",
     "text": [
      "['a', 'm', 'i', 'z']\n"
     ]
    }
   ],
   "source": [
    "print(my_list[5:])"
   ]
  },
  {
   "cell_type": "code",
   "execution_count": 14,
   "id": "97f0beab",
   "metadata": {},
   "outputs": [
    {
     "name": "stdout",
     "output_type": "stream",
     "text": [
      "['p', 'r', 'o', 'g', 'r', 'a', 'm', 'i', 'z']\n"
     ]
    }
   ],
   "source": [
    "print(my_list[:])"
   ]
  },
  {
   "cell_type": "markdown",
   "id": "61ce0da5",
   "metadata": {},
   "source": [
    "#### changing the item value"
   ]
  },
  {
   "cell_type": "code",
   "execution_count": 15,
   "id": "4719e511",
   "metadata": {},
   "outputs": [
    {
     "name": "stdout",
     "output_type": "stream",
     "text": [
      "[1, 4, 6, 8]\n"
     ]
    }
   ],
   "source": [
    "odd=[2,4,6,8]\n",
    "#change 1st item\n",
    "odd[0]=1\n",
    "print(odd)"
   ]
  },
  {
   "cell_type": "code",
   "execution_count": 16,
   "id": "e5a3291c",
   "metadata": {},
   "outputs": [
    {
     "name": "stdout",
     "output_type": "stream",
     "text": [
      "[1, 3, 5, 7]\n"
     ]
    }
   ],
   "source": [
    "#change 2nd to 4th items\n",
    "odd[1:4]=[3,5,7]\n",
    "print(odd)"
   ]
  },
  {
   "cell_type": "markdown",
   "id": "b0703862",
   "metadata": {},
   "source": [
    "### Appending and Extending"
   ]
  },
  {
   "cell_type": "code",
   "execution_count": 18,
   "id": "d05df815",
   "metadata": {},
   "outputs": [
    {
     "name": "stdout",
     "output_type": "stream",
     "text": [
      "[1, 3, 5, 7]\n"
     ]
    }
   ],
   "source": [
    "odd=[1,3,5]\n",
    "odd.append(7)\n",
    "print(odd)"
   ]
  },
  {
   "cell_type": "code",
   "execution_count": 19,
   "id": "df869d27",
   "metadata": {},
   "outputs": [
    {
     "name": "stdout",
     "output_type": "stream",
     "text": [
      "[1, 3, 5, 7, 9, 11, 13]\n"
     ]
    }
   ],
   "source": [
    "odd.extend([9,11,13])\n",
    "print(odd)"
   ]
  },
  {
   "cell_type": "code",
   "execution_count": 21,
   "id": "7d238f8a",
   "metadata": {},
   "outputs": [
    {
     "name": "stdout",
     "output_type": "stream",
     "text": [
      "['apple', 'orange', 'banana', 'cherry']\n"
     ]
    }
   ],
   "source": [
    "#Insert the item in the list to perticular index\n",
    "Fruits=[\"apple\",\"banana\",\"cherry\"]\n",
    "Fruits.insert(1,\"orange\")\n",
    "print(Fruits)"
   ]
  },
  {
   "cell_type": "markdown",
   "id": "b3ffa8a2",
   "metadata": {},
   "source": [
    "### List of numbers"
   ]
  },
  {
   "cell_type": "code",
   "execution_count": 22,
   "id": "a8581f64",
   "metadata": {},
   "outputs": [
    {
     "name": "stdout",
     "output_type": "stream",
     "text": [
      "[100, 3, 12, 4, 56, 2, 54]\n"
     ]
    }
   ],
   "source": [
    "Age=[100,3,12,4,56,2,54]\n",
    "print(Age)"
   ]
  },
  {
   "cell_type": "code",
   "execution_count": 23,
   "id": "fa7b5323",
   "metadata": {},
   "outputs": [
    {
     "name": "stdout",
     "output_type": "stream",
     "text": [
      "100\n"
     ]
    }
   ],
   "source": [
    "print(max(Age))"
   ]
  },
  {
   "cell_type": "code",
   "execution_count": 24,
   "id": "0a7e7e55",
   "metadata": {},
   "outputs": [
    {
     "name": "stdout",
     "output_type": "stream",
     "text": [
      "2\n"
     ]
    }
   ],
   "source": [
    "print(min(Age))"
   ]
  },
  {
   "cell_type": "code",
   "execution_count": 25,
   "id": "b7cb0271",
   "metadata": {},
   "outputs": [
    {
     "name": "stdout",
     "output_type": "stream",
     "text": [
      "[2, 3, 4, 12, 54, 56, 100]\n"
     ]
    }
   ],
   "source": [
    "Age.sort()\n",
    "print(Age)"
   ]
  },
  {
   "cell_type": "code",
   "execution_count": 26,
   "id": "5efe6f75",
   "metadata": {},
   "outputs": [
    {
     "name": "stdout",
     "output_type": "stream",
     "text": [
      "[100, 56, 54, 12, 4, 3, 2]\n"
     ]
    }
   ],
   "source": [
    "Age.sort(reverse=True)\n",
    "print(Age)"
   ]
  },
  {
   "cell_type": "code",
   "execution_count": 29,
   "id": "c2fc3e3a",
   "metadata": {},
   "outputs": [
    {
     "name": "stdout",
     "output_type": "stream",
     "text": [
      "sum is 231\n"
     ]
    }
   ],
   "source": [
    "a=sum(Age)\n",
    "print(f'sum is {a}')"
   ]
  },
  {
   "cell_type": "markdown",
   "id": "acad78cd",
   "metadata": {},
   "source": [
    "### Count"
   ]
  },
  {
   "cell_type": "code",
   "execution_count": 30,
   "id": "8fa9a488",
   "metadata": {},
   "outputs": [
    {
     "name": "stdout",
     "output_type": "stream",
     "text": [
      "2\n"
     ]
    }
   ],
   "source": [
    "#Returns how many times item is repeated.\n",
    "fruits=(\"apple\", \"mango\", \"papaya\", \"pineapple\", \"cherry\", \"mango\",)\n",
    "print(fruits.count(\"mango\"))"
   ]
  },
  {
   "cell_type": "markdown",
   "id": "1277d6d2",
   "metadata": {},
   "source": [
    "### Extracting items from the list"
   ]
  },
  {
   "cell_type": "code",
   "execution_count": 31,
   "id": "f452b38f",
   "metadata": {},
   "outputs": [
    {
     "name": "stdout",
     "output_type": "stream",
     "text": [
      "Apple\n"
     ]
    }
   ],
   "source": [
    "fruits=['Apple', 'Banana', 'Grape', 'Kiwi']\n",
    "print(fruits[0])"
   ]
  },
  {
   "cell_type": "code",
   "execution_count": 34,
   "id": "df781f19",
   "metadata": {},
   "outputs": [
    {
     "name": "stdout",
     "output_type": "stream",
     "text": [
      "['Apple', 'Banana', 'Grape']\n"
     ]
    }
   ],
   "source": [
    "print(fruits[0:3])"
   ]
  },
  {
   "cell_type": "code",
   "execution_count": 35,
   "id": "3b97490e",
   "metadata": {},
   "outputs": [
    {
     "name": "stdout",
     "output_type": "stream",
     "text": [
      "['Apple', 'Banana', 'Grape']\n"
     ]
    }
   ],
   "source": [
    "print(fruits[:3])"
   ]
  },
  {
   "cell_type": "code",
   "execution_count": 36,
   "id": "26e6d7e8",
   "metadata": {},
   "outputs": [
    {
     "name": "stdout",
     "output_type": "stream",
     "text": [
      "['Grape', 'Kiwi']\n"
     ]
    }
   ],
   "source": [
    "print(fruits[2:])"
   ]
  },
  {
   "cell_type": "code",
   "execution_count": 37,
   "id": "21b3e69b",
   "metadata": {},
   "outputs": [
    {
     "name": "stdout",
     "output_type": "stream",
     "text": [
      "Kiwi\n"
     ]
    }
   ],
   "source": [
    "print(fruits[-1])"
   ]
  },
  {
   "cell_type": "code",
   "execution_count": 38,
   "id": "1ed45629",
   "metadata": {},
   "outputs": [
    {
     "name": "stdout",
     "output_type": "stream",
     "text": [
      "['Kiwi', 'Grape', 'Banana', 'Apple']\n"
     ]
    }
   ],
   "source": [
    "print(fruits[::-1])"
   ]
  },
  {
   "cell_type": "code",
   "execution_count": 40,
   "id": "069fbeff",
   "metadata": {},
   "outputs": [
    {
     "name": "stdout",
     "output_type": "stream",
     "text": [
      "['Apple', 'Banana', 'Water melon', 'Water melon', 'Grape', 'Kiwi']\n"
     ]
    }
   ],
   "source": [
    "fruits.insert(2, 'Water melon')\n",
    "print(fruits)"
   ]
  },
  {
   "cell_type": "markdown",
   "id": "a08c8fe1",
   "metadata": {},
   "source": [
    "## List comprehension"
   ]
  },
  {
   "cell_type": "code",
   "execution_count": 1,
   "id": "6aa3f38f",
   "metadata": {},
   "outputs": [],
   "source": [
    "#syntax: [expression for item in iterable if condition]"
   ]
  },
  {
   "cell_type": "markdown",
   "id": "63c145dc",
   "metadata": {},
   "source": [
    " list comprehension offers a shorter syntax when you want to create a new list based on the values of an existing list.\n",
    "\n",
    "Example:\n",
    "    \n",
    "Based on a list of fruits, you want a new list, that startswith the letter \"a\" in the name.\n",
    "\n",
    "Without list comprehension you will have to write a for statement with a conditional test inside.\n",
    "- result always in list\n",
    "\n",
    "syntax:\n",
    "    \n",
    "[expression for item in list]"
   ]
  },
  {
   "cell_type": "markdown",
   "id": "f8c00e4e",
   "metadata": {},
   "source": [
    "### without list comprehension"
   ]
  },
  {
   "cell_type": "code",
   "execution_count": 3,
   "id": "7378b4f6",
   "metadata": {},
   "outputs": [
    {
     "name": "stdout",
     "output_type": "stream",
     "text": [
      "['apple']\n"
     ]
    }
   ],
   "source": [
    "fruits=[\"apple\",\"banana\",\"cherry\",\"kiwi\",\"mango\"]\n",
    "newlist=[]\n",
    "\n",
    "for x in fruits:\n",
    "    if x.startswith(\"a\"):\n",
    "        newlist.append(x)\n",
    "print(newlist)"
   ]
  },
  {
   "cell_type": "markdown",
   "id": "c56babcf",
   "metadata": {},
   "source": [
    "### with list comprehension"
   ]
  },
  {
   "cell_type": "code",
   "execution_count": 5,
   "id": "b3f1e4a7",
   "metadata": {},
   "outputs": [
    {
     "data": {
      "text/plain": [
       "['apple']"
      ]
     },
     "execution_count": 5,
     "metadata": {},
     "output_type": "execute_result"
    }
   ],
   "source": [
    "newlist1=[x for x in fruits if x.startswith(\"a\")]\n",
    "newlist1"
   ]
  },
  {
   "cell_type": "markdown",
   "id": "d0c958b7",
   "metadata": {},
   "source": [
    "### list of even no."
   ]
  },
  {
   "cell_type": "code",
   "execution_count": 7,
   "id": "45df15ef",
   "metadata": {},
   "outputs": [
    {
     "name": "stdout",
     "output_type": "stream",
     "text": [
      "1\n",
      "2\n",
      "3\n",
      "4\n",
      "5\n",
      "6\n",
      "7\n",
      "8\n",
      "9\n",
      "10\n",
      "11\n",
      "12\n",
      "13\n",
      "14\n",
      "15\n",
      "16\n",
      "17\n",
      "18\n",
      "19\n",
      "20\n",
      "21\n",
      "22\n",
      "23\n",
      "24\n",
      "25\n",
      "26\n",
      "27\n",
      "28\n",
      "29\n",
      "30\n",
      "31\n",
      "32\n",
      "33\n",
      "34\n",
      "35\n",
      "36\n",
      "37\n",
      "38\n",
      "39\n",
      "40\n",
      "41\n",
      "42\n",
      "43\n",
      "44\n",
      "45\n",
      "46\n",
      "47\n",
      "48\n",
      "49\n",
      "50\n"
     ]
    }
   ],
   "source": [
    "for i in range(1,51):\n",
    "    print(i)"
   ]
  },
  {
   "cell_type": "code",
   "execution_count": 9,
   "id": "6f9d51a2",
   "metadata": {},
   "outputs": [
    {
     "name": "stdout",
     "output_type": "stream",
     "text": [
      "[1, 2, 3, 4, 5, 6, 7, 8, 9, 10, 11, 12, 13, 14, 15, 16, 17, 18, 19, 20, 21, 22, 23, 24, 25, 26, 27, 28, 29, 30, 31, 32, 33, 34, 35, 36, 37, 38, 39, 40, 41, 42, 43, 44, 45, 46, 47, 48, 49, 50]\n"
     ]
    }
   ],
   "source": [
    "number=[n for n in range(1,51)]\n",
    "print(number)"
   ]
  },
  {
   "cell_type": "code",
   "execution_count": 10,
   "id": "e3029d90",
   "metadata": {},
   "outputs": [],
   "source": [
    "even_no=[x for x in range(1,51) if x%2==0]"
   ]
  },
  {
   "cell_type": "code",
   "execution_count": 11,
   "id": "9ad789f8",
   "metadata": {},
   "outputs": [
    {
     "name": "stdout",
     "output_type": "stream",
     "text": [
      "[2, 4, 6, 8, 10, 12, 14, 16, 18, 20, 22, 24, 26, 28, 30, 32, 34, 36, 38, 40, 42, 44, 46, 48, 50]\n"
     ]
    }
   ],
   "source": [
    "print(even_no)"
   ]
  },
  {
   "cell_type": "code",
   "execution_count": 12,
   "id": "563e0dd4",
   "metadata": {},
   "outputs": [],
   "source": [
    "n=[1,2,3,4,5,6,7]\n",
    "n2=[x*x for x in n]"
   ]
  },
  {
   "cell_type": "code",
   "execution_count": 13,
   "id": "d7bd00ac",
   "metadata": {},
   "outputs": [
    {
     "data": {
      "text/plain": [
       "[1, 4, 9, 16, 25, 36, 49]"
      ]
     },
     "execution_count": 13,
     "metadata": {},
     "output_type": "execute_result"
    }
   ],
   "source": [
    "n2"
   ]
  },
  {
   "cell_type": "markdown",
   "id": "2012041d",
   "metadata": {},
   "source": [
    "### convert a string to a uppercase()"
   ]
  },
  {
   "cell_type": "code",
   "execution_count": 14,
   "id": "6ca2e895",
   "metadata": {},
   "outputs": [
    {
     "name": "stdout",
     "output_type": "stream",
     "text": [
      "['D', 'A', 'T', 'A', ' ', 'S', 'C', 'I', 'E', 'N', 'C', 'E']\n"
     ]
    }
   ],
   "source": [
    "string=\"data science\"\n",
    "l=[]\n",
    "for i in string:\n",
    "    upper_chr=i.upper()\n",
    "    l.append(upper_chr)\n",
    "print(l)"
   ]
  },
  {
   "cell_type": "code",
   "execution_count": 15,
   "id": "a10df06f",
   "metadata": {},
   "outputs": [
    {
     "data": {
      "text/plain": [
       "['D', 'A', 'T', 'A', ' ', 'S', 'C', 'I', 'E', 'N', 'C', 'E']"
      ]
     },
     "execution_count": 15,
     "metadata": {},
     "output_type": "execute_result"
    }
   ],
   "source": [
    "string=\"data science\"\n",
    "upper=[x.upper() for x in string]\n",
    "upper"
   ]
  },
  {
   "cell_type": "code",
   "execution_count": 16,
   "id": "6346d937",
   "metadata": {},
   "outputs": [],
   "source": [
    "s=\"data science\"\n",
    "a=[i for i in s]"
   ]
  },
  {
   "cell_type": "code",
   "execution_count": 17,
   "id": "8b2a3ad7",
   "metadata": {},
   "outputs": [
    {
     "data": {
      "text/plain": [
       "['d', 'a', 't', 'a', ' ', 's', 'c', 'i', 'e', 'n', 'c', 'e']"
      ]
     },
     "execution_count": 17,
     "metadata": {},
     "output_type": "execute_result"
    }
   ],
   "source": [
    "a"
   ]
  },
  {
   "cell_type": "markdown",
   "id": "5bf9ba07",
   "metadata": {},
   "source": [
    "### Generating a list of tuples representing pairs of numbers:"
   ]
  },
  {
   "cell_type": "code",
   "execution_count": 18,
   "id": "a509375a",
   "metadata": {},
   "outputs": [],
   "source": [
    "# output: [(1,2), (2,3), (3,4), (4,5)]"
   ]
  },
  {
   "cell_type": "code",
   "execution_count": 19,
   "id": "f5fabbbb",
   "metadata": {},
   "outputs": [],
   "source": [
    "pairs=[(x,x+1) for x in range(1,5)]"
   ]
  },
  {
   "cell_type": "code",
   "execution_count": 20,
   "id": "f95f14f6",
   "metadata": {},
   "outputs": [
    {
     "data": {
      "text/plain": [
       "[(1, 2), (2, 3), (3, 4), (4, 5)]"
      ]
     },
     "execution_count": 20,
     "metadata": {},
     "output_type": "execute_result"
    }
   ],
   "source": [
    "pairs"
   ]
  },
  {
   "cell_type": "markdown",
   "id": "bddfade7",
   "metadata": {},
   "source": [
    "### Creating a list of even squares using conditional expressions:"
   ]
  },
  {
   "cell_type": "code",
   "execution_count": 21,
   "id": "059c4a23",
   "metadata": {},
   "outputs": [],
   "source": [
    "numbers=[1,2,3,4,5,6]\n",
    "even_squares=[x**2 for x in numbers if x%2==0]\n",
    "#output: [4,16,36]"
   ]
  },
  {
   "cell_type": "code",
   "execution_count": 23,
   "id": "9bedee97",
   "metadata": {},
   "outputs": [
    {
     "data": {
      "text/plain": [
       "[4, 16, 36]"
      ]
     },
     "execution_count": 23,
     "metadata": {},
     "output_type": "execute_result"
    }
   ],
   "source": [
    "even_squares"
   ]
  },
  {
   "cell_type": "code",
   "execution_count": null,
   "id": "7067db71",
   "metadata": {},
   "outputs": [],
   "source": []
  }
 ],
 "metadata": {
  "kernelspec": {
   "display_name": "Python 3 (ipykernel)",
   "language": "python",
   "name": "python3"
  },
  "language_info": {
   "codemirror_mode": {
    "name": "ipython",
    "version": 3
   },
   "file_extension": ".py",
   "mimetype": "text/x-python",
   "name": "python",
   "nbconvert_exporter": "python",
   "pygments_lexer": "ipython3",
   "version": "3.11.4"
  }
 },
 "nbformat": 4,
 "nbformat_minor": 5
}
