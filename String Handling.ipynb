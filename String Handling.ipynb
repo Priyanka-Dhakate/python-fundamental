{
 "cells": [
  {
   "cell_type": "markdown",
   "id": "e6555a26",
   "metadata": {},
   "source": [
    "### string operator"
   ]
  },
  {
   "cell_type": "markdown",
   "id": "c0eb284e",
   "metadata": {},
   "source": [
    "#string\n",
    "- it is a sequance of character we declare string either by '' or \"\"\n",
    "- index value starts from 0(positive indexing)\n",
    "- From the end the index value starts from -1"
   ]
  },
  {
   "cell_type": "markdown",
   "id": "33e5f14c",
   "metadata": {},
   "source": [
    "## The + operator"
   ]
  },
  {
   "cell_type": "code",
   "execution_count": 1,
   "id": "e071e1e2",
   "metadata": {},
   "outputs": [],
   "source": [
    "#concatenate string"
   ]
  },
  {
   "cell_type": "code",
   "execution_count": 4,
   "id": "db352411",
   "metadata": {},
   "outputs": [
    {
     "name": "stdout",
     "output_type": "stream",
     "text": [
      "priyanka dhakate\n"
     ]
    }
   ],
   "source": [
    "a=\"priyanka\"\n",
    "b=\"dhakate\"\n",
    "c=a+\" \"+b\n",
    "print(c)"
   ]
  },
  {
   "cell_type": "markdown",
   "id": "5f2f740d",
   "metadata": {},
   "source": [
    "## The * operator"
   ]
  },
  {
   "cell_type": "code",
   "execution_count": 8,
   "id": "b1b29e50",
   "metadata": {},
   "outputs": [
    {
     "data": {
      "text/plain": [
       "'sanvi sanvi sanvi sanvi '"
      ]
     },
     "execution_count": 8,
     "metadata": {},
     "output_type": "execute_result"
    }
   ],
   "source": [
    "# This creates multiple copies of the string\n",
    "#ex:\n",
    "s= \"sanvi \"\n",
    "s*4"
   ]
  },
  {
   "cell_type": "markdown",
   "id": "f5ef6d33",
   "metadata": {},
   "source": [
    "## The in operator"
   ]
  },
  {
   "cell_type": "code",
   "execution_count": 9,
   "id": "56e57bce",
   "metadata": {},
   "outputs": [
    {
     "data": {
      "text/plain": [
       "True"
      ]
     },
     "execution_count": 9,
     "metadata": {},
     "output_type": "execute_result"
    }
   ],
   "source": [
    "#It checks if the first string is available in the second string\n",
    "#ex\n",
    "s=\"Hello Python\"\n",
    "s1=\"Python\"\n",
    "s1 in s"
   ]
  },
  {
   "cell_type": "code",
   "execution_count": 11,
   "id": "0072530c",
   "metadata": {},
   "outputs": [
    {
     "data": {
      "text/plain": [
       "True"
      ]
     },
     "execution_count": 11,
     "metadata": {},
     "output_type": "execute_result"
    }
   ],
   "source": [
    "s=\"Hello Python\"\n",
    "\"Hello\" in s"
   ]
  },
  {
   "cell_type": "code",
   "execution_count": 12,
   "id": "18d9b77d",
   "metadata": {},
   "outputs": [
    {
     "data": {
      "text/plain": [
       "False"
      ]
     },
     "execution_count": 12,
     "metadata": {},
     "output_type": "execute_result"
    }
   ],
   "source": [
    "s=\"Hello Python\"\n",
    "\"hi\" in s"
   ]
  },
  {
   "cell_type": "markdown",
   "id": "764ce623",
   "metadata": {},
   "source": [
    "## The not in operator"
   ]
  },
  {
   "cell_type": "code",
   "execution_count": 14,
   "id": "13537a58",
   "metadata": {},
   "outputs": [
    {
     "name": "stdout",
     "output_type": "stream",
     "text": [
      "True\n",
      "False\n"
     ]
    }
   ],
   "source": [
    "s=\"I am learning data analytics\"\n",
    "s1=\"data science\"\n",
    "s2=\"data analytics\"\n",
    "print(s1 not in s)\n",
    "print(s2 not in s)"
   ]
  },
  {
   "cell_type": "markdown",
   "id": "22484ff8",
   "metadata": {},
   "source": [
    "## String Functions"
   ]
  },
  {
   "cell_type": "code",
   "execution_count": 15,
   "id": "1ea28987",
   "metadata": {},
   "outputs": [
    {
     "data": {
      "text/plain": [
       "'a'"
      ]
     },
     "execution_count": 15,
     "metadata": {},
     "output_type": "execute_result"
    }
   ],
   "source": [
    "#chr()\n",
    "# this gives the character when ASCII value is provided.\n",
    "#ex\n",
    "chr(97)"
   ]
  },
  {
   "cell_type": "code",
   "execution_count": 16,
   "id": "a2b26c70",
   "metadata": {},
   "outputs": [
    {
     "data": {
      "text/plain": [
       "'#'"
      ]
     },
     "execution_count": 16,
     "metadata": {},
     "output_type": "execute_result"
    }
   ],
   "source": [
    "chr(35)"
   ]
  },
  {
   "cell_type": "code",
   "execution_count": 18,
   "id": "7868ac66",
   "metadata": {},
   "outputs": [
    {
     "data": {
      "text/plain": [
       "97"
      ]
     },
     "execution_count": 18,
     "metadata": {},
     "output_type": "execute_result"
    }
   ],
   "source": [
    "#ord\n",
    "#This gives the ASCII value of the character given\n",
    "#ex\n",
    "ord(\"a\")"
   ]
  },
  {
   "cell_type": "code",
   "execution_count": 19,
   "id": "0f3cc351",
   "metadata": {},
   "outputs": [
    {
     "data": {
      "text/plain": [
       "35"
      ]
     },
     "execution_count": 19,
     "metadata": {},
     "output_type": "execute_result"
    }
   ],
   "source": [
    "ord(\"#\")"
   ]
  },
  {
   "cell_type": "code",
   "execution_count": 20,
   "id": "92a0478a",
   "metadata": {},
   "outputs": [
    {
     "data": {
      "text/plain": [
       "98"
      ]
     },
     "execution_count": 20,
     "metadata": {},
     "output_type": "execute_result"
    }
   ],
   "source": [
    "ord(\"b\")"
   ]
  },
  {
   "cell_type": "code",
   "execution_count": 21,
   "id": "f7ac89fe",
   "metadata": {},
   "outputs": [
    {
     "data": {
      "text/plain": [
       "13"
      ]
     },
     "execution_count": 21,
     "metadata": {},
     "output_type": "execute_result"
    }
   ],
   "source": [
    "#len\n",
    "#Returns the length of string.\n",
    "#ex\n",
    "s= \"I am priyanka\"\n",
    "len(s)\n"
   ]
  },
  {
   "cell_type": "code",
   "execution_count": 24,
   "id": "4f44ee6f",
   "metadata": {},
   "outputs": [
    {
     "data": {
      "text/plain": [
       "'You Have Done Good Job'"
      ]
     },
     "execution_count": 24,
     "metadata": {},
     "output_type": "execute_result"
    }
   ],
   "source": [
    "#write a program to get an output like this\n",
    "s1=\"You \"\n",
    "s2=\"Have \"\n",
    "s3=\"Done \"\n",
    "s4=\"Good Job\"\n",
    "s1+s2+s3+s4"
   ]
  },
  {
   "cell_type": "markdown",
   "id": "81386f37",
   "metadata": {},
   "source": [
    "##  fuction of string"
   ]
  },
  {
   "cell_type": "code",
   "execution_count": 1,
   "id": "eeadca85",
   "metadata": {},
   "outputs": [
    {
     "name": "stdout",
     "output_type": "stream",
     "text": [
      "Printing the string:\n",
      "We are here to learn Python from IPCS\n"
     ]
    }
   ],
   "source": [
    "s=\"We are here to learn Python from IPCS\"\n",
    "print(\"Printing the string:\")\n",
    "print(s)\n"
   ]
  },
  {
   "cell_type": "markdown",
   "id": "ce7cf1ec",
   "metadata": {},
   "source": [
    "## upper() "
   ]
  },
  {
   "cell_type": "code",
   "execution_count": 3,
   "id": "2a0762c9",
   "metadata": {},
   "outputs": [
    {
     "name": "stdout",
     "output_type": "stream",
     "text": [
      "WE ARE HERE TO LEARN PYTHON FROM IPCS\n"
     ]
    }
   ],
   "source": [
    "print(s.upper())"
   ]
  },
  {
   "cell_type": "markdown",
   "id": "12513dbf",
   "metadata": {},
   "source": [
    "## lower()"
   ]
  },
  {
   "cell_type": "code",
   "execution_count": 6,
   "id": "99fc4943",
   "metadata": {},
   "outputs": [
    {
     "name": "stdout",
     "output_type": "stream",
     "text": [
      "we are here to learn python from ipcs\n"
     ]
    }
   ],
   "source": [
    "print(s.lower())"
   ]
  },
  {
   "cell_type": "markdown",
   "id": "d9666b26",
   "metadata": {},
   "source": [
    "## capitalize()"
   ]
  },
  {
   "cell_type": "code",
   "execution_count": 7,
   "id": "31012eac",
   "metadata": {},
   "outputs": [
    {
     "name": "stdout",
     "output_type": "stream",
     "text": [
      "We are here to learn python from ipcs\n"
     ]
    }
   ],
   "source": [
    "print(s.capitalize())"
   ]
  },
  {
   "cell_type": "markdown",
   "id": "eee9f70b",
   "metadata": {},
   "source": [
    "## title()"
   ]
  },
  {
   "cell_type": "code",
   "execution_count": 8,
   "id": "16360420",
   "metadata": {},
   "outputs": [
    {
     "name": "stdout",
     "output_type": "stream",
     "text": [
      "We Are Here To Learn Python From Ipcs\n"
     ]
    }
   ],
   "source": [
    "print(s.title())"
   ]
  },
  {
   "cell_type": "markdown",
   "id": "53caadf9",
   "metadata": {},
   "source": [
    "## replace()"
   ]
  },
  {
   "cell_type": "code",
   "execution_count": 10,
   "id": "cb35ab60",
   "metadata": {},
   "outputs": [
    {
     "name": "stdout",
     "output_type": "stream",
     "text": [
      "We are here to learn Python from IPCS\n"
     ]
    }
   ],
   "source": [
    "s.replace('Python', 'String')\n",
    "print(s)"
   ]
  },
  {
   "cell_type": "markdown",
   "id": "287bbcdc",
   "metadata": {},
   "source": [
    "## count()"
   ]
  },
  {
   "cell_type": "code",
   "execution_count": 11,
   "id": "aacc2ad3",
   "metadata": {},
   "outputs": [
    {
     "name": "stdout",
     "output_type": "stream",
     "text": [
      "2\n"
     ]
    }
   ],
   "source": [
    "print(s.count('a'))"
   ]
  },
  {
   "cell_type": "markdown",
   "id": "48267c05",
   "metadata": {},
   "source": [
    "## endswith()"
   ]
  },
  {
   "cell_type": "code",
   "execution_count": 13,
   "id": "33aac2e5",
   "metadata": {},
   "outputs": [
    {
     "name": "stdout",
     "output_type": "stream",
     "text": [
      "True\n"
     ]
    }
   ],
   "source": [
    "print(s.endswith('S'))"
   ]
  },
  {
   "cell_type": "markdown",
   "id": "fa64ff63",
   "metadata": {},
   "source": [
    "## startswith()"
   ]
  },
  {
   "cell_type": "code",
   "execution_count": 14,
   "id": "c3dbec7f",
   "metadata": {},
   "outputs": [
    {
     "name": "stdout",
     "output_type": "stream",
     "text": [
      "True\n"
     ]
    }
   ],
   "source": [
    "print(s.startswith('W'))"
   ]
  },
  {
   "cell_type": "markdown",
   "id": "19cbea64",
   "metadata": {},
   "source": [
    "## String Slicing"
   ]
  },
  {
   "cell_type": "code",
   "execution_count": 15,
   "id": "334c052c",
   "metadata": {},
   "outputs": [
    {
     "name": "stdout",
     "output_type": "stream",
     "text": [
      "W\n"
     ]
    }
   ],
   "source": [
    "s=\"We are here to learn Python from IPCS\"\n",
    "print(s[0])"
   ]
  },
  {
   "cell_type": "code",
   "execution_count": 16,
   "id": "4274d455",
   "metadata": {},
   "outputs": [
    {
     "name": "stdout",
     "output_type": "stream",
     "text": [
      "I\n"
     ]
    }
   ],
   "source": [
    "print(s[-4])"
   ]
  },
  {
   "cell_type": "code",
   "execution_count": 17,
   "id": "1a2bba8f",
   "metadata": {},
   "outputs": [
    {
     "name": "stdout",
     "output_type": "stream",
     "text": [
      "We are her\n"
     ]
    }
   ],
   "source": [
    "print(s[0:10])"
   ]
  },
  {
   "cell_type": "code",
   "execution_count": 2,
   "id": "c7b071d1",
   "metadata": {},
   "outputs": [
    {
     "ename": "NameError",
     "evalue": "name 's' is not defined",
     "output_type": "error",
     "traceback": [
      "\u001b[1;31m---------------------------------------------------------------------------\u001b[0m",
      "\u001b[1;31mNameError\u001b[0m                                 Traceback (most recent call last)",
      "Cell \u001b[1;32mIn[2], line 1\u001b[0m\n\u001b[1;32m----> 1\u001b[0m \u001b[38;5;28mprint\u001b[39m(s[\u001b[38;5;241m0\u001b[39m:\u001b[38;5;241m8\u001b[39m])\n",
      "\u001b[1;31mNameError\u001b[0m: name 's' is not defined"
     ]
    }
   ],
   "source": [
    "print(s[0:8])"
   ]
  },
  {
   "cell_type": "code",
   "execution_count": 20,
   "id": "3ace7021",
   "metadata": {},
   "outputs": [
    {
     "name": "stdout",
     "output_type": "stream",
     "text": [
      "lrPh \n"
     ]
    }
   ],
   "source": [
    "print(s[15:28:3])"
   ]
  },
  {
   "cell_type": "code",
   "execution_count": 23,
   "id": "51ff8d90",
   "metadata": {},
   "outputs": [
    {
     "name": "stdout",
     "output_type": "stream",
     "text": [
      " learn Python\n"
     ]
    }
   ],
   "source": [
    "print(s[-23:-10])"
   ]
  },
  {
   "cell_type": "code",
   "execution_count": 26,
   "id": "92acfc27",
   "metadata": {},
   "outputs": [
    {
     "name": "stdout",
     "output_type": "stream",
     "text": [
      "nhy re \n"
     ]
    }
   ],
   "source": [
    "print(s[-11:-24:-2])"
   ]
  },
  {
   "cell_type": "code",
   "execution_count": 27,
   "id": "53063a15",
   "metadata": {},
   "outputs": [
    {
     "name": "stdout",
     "output_type": "stream",
     "text": [
      "e to learn\n"
     ]
    }
   ],
   "source": [
    "print(s[10:20])"
   ]
  },
  {
   "cell_type": "code",
   "execution_count": 28,
   "id": "6f0bd6a2",
   "metadata": {},
   "outputs": [
    {
     "name": "stdout",
     "output_type": "stream",
     "text": [
      "S\n"
     ]
    }
   ],
   "source": [
    "print(s[-1])"
   ]
  },
  {
   "cell_type": "code",
   "execution_count": 29,
   "id": "dd9c1a82",
   "metadata": {},
   "outputs": [
    {
     "name": "stdout",
     "output_type": "stream",
     "text": [
      "SCPI morf nohtyP nrael ot \n"
     ]
    }
   ],
   "source": [
    "print(s[-1:10:-1])"
   ]
  },
  {
   "cell_type": "code",
   "execution_count": 30,
   "id": "4878ff29",
   "metadata": {},
   "outputs": [
    {
     "name": "stdout",
     "output_type": "stream",
     "text": [
      " nohtyP nra\n"
     ]
    }
   ],
   "source": [
    "print(s[-10:-21:-1])"
   ]
  },
  {
   "cell_type": "markdown",
   "id": "8df2b754",
   "metadata": {},
   "source": [
    "##### skipping two character"
   ]
  },
  {
   "cell_type": "code",
   "execution_count": 31,
   "id": "714dd8f1",
   "metadata": {},
   "outputs": [
    {
     "name": "stdout",
     "output_type": "stream",
     "text": [
      "a r\n"
     ]
    }
   ],
   "source": [
    "print(s[3:11:3])"
   ]
  },
  {
   "cell_type": "markdown",
   "id": "ce011430",
   "metadata": {},
   "source": [
    "##### skipping two character from last"
   ]
  },
  {
   "cell_type": "code",
   "execution_count": 33,
   "id": "637a53eb",
   "metadata": {},
   "outputs": [
    {
     "name": "stdout",
     "output_type": "stream",
     "text": [
      " hPr\n"
     ]
    }
   ],
   "source": [
    "print(s[-10:-20:-3])"
   ]
  },
  {
   "cell_type": "markdown",
   "id": "6daca03e",
   "metadata": {},
   "source": [
    "##### print in reverse"
   ]
  },
  {
   "cell_type": "code",
   "execution_count": 34,
   "id": "79426e47",
   "metadata": {},
   "outputs": [
    {
     "name": "stdout",
     "output_type": "stream",
     "text": [
      "SCPI morf nohtyP nrael ot ereh era eW\n"
     ]
    }
   ],
   "source": [
    "print(s[::-1])"
   ]
  },
  {
   "cell_type": "markdown",
   "id": "6a368321",
   "metadata": {},
   "source": [
    "##### from starting to 10"
   ]
  },
  {
   "cell_type": "code",
   "execution_count": 35,
   "id": "5265b680",
   "metadata": {},
   "outputs": [
    {
     "name": "stdout",
     "output_type": "stream",
     "text": [
      "We are here\n"
     ]
    }
   ],
   "source": [
    "print(s[:11])"
   ]
  },
  {
   "cell_type": "markdown",
   "id": "886b0058",
   "metadata": {},
   "source": [
    "##### from 10 to last"
   ]
  },
  {
   "cell_type": "code",
   "execution_count": 36,
   "id": "b61a8286",
   "metadata": {},
   "outputs": [
    {
     "name": "stdout",
     "output_type": "stream",
     "text": [
      "e to learn Python from IPCS\n"
     ]
    }
   ],
   "source": [
    "print(s[10:])"
   ]
  },
  {
   "cell_type": "markdown",
   "id": "3979e21c",
   "metadata": {},
   "source": [
    "## Escape Character"
   ]
  },
  {
   "cell_type": "code",
   "execution_count": 37,
   "id": "fc9f8ee4",
   "metadata": {},
   "outputs": [
    {
     "name": "stdout",
     "output_type": "stream",
     "text": [
      "we are the so called 'vikings' from the north\n"
     ]
    }
   ],
   "source": [
    "s=\"we are the so called \\'vikings\\' from the north\"\n",
    "print(s)"
   ]
  },
  {
   "cell_type": "code",
   "execution_count": 39,
   "id": "f6cdcf07",
   "metadata": {},
   "outputs": [
    {
     "name": "stdout",
     "output_type": "stream",
     "text": [
      "we are the so called \n",
      "vikings from the north\n"
     ]
    }
   ],
   "source": [
    "s=\"we are the so called \\nvikings from the north\"\n",
    "print(s)"
   ]
  },
  {
   "cell_type": "code",
   "execution_count": 40,
   "id": "b8820324",
   "metadata": {},
   "outputs": [
    {
     "name": "stdout",
     "output_type": "stream",
     "text": [
      "we are the so called \n",
      "vikings from the north\n"
     ]
    }
   ],
   "source": [
    "s=\"we are the so called \\nvikings from the north\"\n",
    "print(s)"
   ]
  },
  {
   "cell_type": "code",
   "execution_count": 41,
   "id": "65a96063",
   "metadata": {},
   "outputs": [
    {
     "name": "stdout",
     "output_type": "stream",
     "text": [
      "we are the so called \tvikings from the north\n"
     ]
    }
   ],
   "source": [
    "s=\"we are the so called \\tvikings from the north\"\n",
    "print(s)"
   ]
  },
  {
   "cell_type": "code",
   "execution_count": 42,
   "id": "c0f3e798",
   "metadata": {},
   "outputs": [
    {
     "name": "stdout",
     "output_type": "stream",
     "text": [
      "we are the so called \r",
      " vikings from the north\n"
     ]
    }
   ],
   "source": [
    "s=\"we are the so called \\r vikings from the north\"\n",
    "print(s)\n"
   ]
  },
  {
   "cell_type": "code",
   "execution_count": 43,
   "id": "63e1678b",
   "metadata": {},
   "outputs": [
    {
     "name": "stdout",
     "output_type": "stream",
     "text": [
      "we are the so called\b vikings from the north\n"
     ]
    }
   ],
   "source": [
    "s=\"we are the so called\\b vikings from the north\"\n",
    "print(s)"
   ]
  },
  {
   "cell_type": "markdown",
   "id": "348eab49",
   "metadata": {},
   "source": [
    "### String Function"
   ]
  },
  {
   "cell_type": "code",
   "execution_count": 1,
   "id": "bd230689",
   "metadata": {},
   "outputs": [
    {
     "name": "stdout",
     "output_type": "stream",
     "text": [
      "Printing the string:\n"
     ]
    }
   ],
   "source": [
    "s=\"We are here to learn Python from IPCS\"\n",
    "print(\"Printing the string:\")"
   ]
  },
  {
   "cell_type": "code",
   "execution_count": 2,
   "id": "7b65255e",
   "metadata": {},
   "outputs": [
    {
     "name": "stdout",
     "output_type": "stream",
     "text": [
      "Checking is alphabets\n"
     ]
    }
   ],
   "source": [
    "print(\"Checking is alphabets\")"
   ]
  },
  {
   "cell_type": "code",
   "execution_count": 3,
   "id": "53786420",
   "metadata": {},
   "outputs": [
    {
     "name": "stdout",
     "output_type": "stream",
     "text": [
      "False\n"
     ]
    }
   ],
   "source": [
    "print(s.isalpha())"
   ]
  },
  {
   "cell_type": "code",
   "execution_count": 6,
   "id": "b119fa6f",
   "metadata": {},
   "outputs": [
    {
     "name": "stdout",
     "output_type": "stream",
     "text": [
      "Checking is alphabets and numbers\n",
      "Hello123\n",
      "True\n"
     ]
    }
   ],
   "source": [
    "print(\"Checking is alphabets and numbers\")\n",
    "s1=\"Hello123\"\n",
    "print(s1)\n",
    "print(s1.isalnum())"
   ]
  },
  {
   "cell_type": "code",
   "execution_count": 7,
   "id": "c84bf277",
   "metadata": {},
   "outputs": [
    {
     "name": "stdout",
     "output_type": "stream",
     "text": [
      "Checking is space\n",
      "               \n",
      "True\n"
     ]
    }
   ],
   "source": [
    "print(\"Checking is space\")\n",
    "s2=\"               \"\n",
    "print(s2)\n",
    "print(s2.isspace())"
   ]
  },
  {
   "cell_type": "code",
   "execution_count": 9,
   "id": "f03e77f9",
   "metadata": {},
   "outputs": [
    {
     "name": "stdout",
     "output_type": "stream",
     "text": [
      "Checking is digit\n",
      "123\n",
      "True\n"
     ]
    }
   ],
   "source": [
    "print(\"Checking is digit\")\n",
    "s3=\"123\"\n",
    "print(s3)\n",
    "print(s3.isdigit())"
   ]
  },
  {
   "cell_type": "code",
   "execution_count": 11,
   "id": "76825ad9",
   "metadata": {},
   "outputs": [
    {
     "name": "stdout",
     "output_type": "stream",
     "text": [
      "Is upper case\n",
      "IPCS\n",
      "True\n"
     ]
    }
   ],
   "source": [
    "print(\"Is upper case\")\n",
    "s4=\"IPCS\"\n",
    "print(s4)\n",
    "print(s4.isupper())"
   ]
  },
  {
   "cell_type": "code",
   "execution_count": 13,
   "id": "5f9d5f66",
   "metadata": {},
   "outputs": [
    {
     "name": "stdout",
     "output_type": "stream",
     "text": [
      "Is lower case\n",
      "ipcs\n",
      "True\n"
     ]
    }
   ],
   "source": [
    "print(\"Is lower case\")\n",
    "s5=\"ipcs\"\n",
    "print(s5)\n",
    "print(s5.islower())"
   ]
  },
  {
   "cell_type": "code",
   "execution_count": null,
   "id": "9a538e9c",
   "metadata": {},
   "outputs": [],
   "source": []
  }
 ],
 "metadata": {
  "kernelspec": {
   "display_name": "Python 3 (ipykernel)",
   "language": "python",
   "name": "python3"
  },
  "language_info": {
   "codemirror_mode": {
    "name": "ipython",
    "version": 3
   },
   "file_extension": ".py",
   "mimetype": "text/x-python",
   "name": "python",
   "nbconvert_exporter": "python",
   "pygments_lexer": "ipython3",
   "version": "3.11.4"
  }
 },
 "nbformat": 4,
 "nbformat_minor": 5
}
