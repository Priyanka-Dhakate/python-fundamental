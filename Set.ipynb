{
 "cells": [
  {
   "cell_type": "code",
   "execution_count": 3,
   "id": "8c68f6f5",
   "metadata": {},
   "outputs": [
    {
     "name": "stdout",
     "output_type": "stream",
     "text": [
      "{'Saturday', 'Wednesday', 'Thursday', 'Monday', 'Tuesday', 'Sunday', 'Friday'}\n"
     ]
    }
   ],
   "source": [
    "Days={\"Monday\", \"Tuesday\", \"Wednesday\", \"Thursday\", \"Friday\", \"Saturday\", \"Sunday\"}\n",
    "print(Days)"
   ]
  },
  {
   "cell_type": "code",
   "execution_count": 4,
   "id": "b8e50e54",
   "metadata": {},
   "outputs": [
    {
     "name": "stdout",
     "output_type": "stream",
     "text": [
      "{'Grapes', 'Apple', 'Mango'}\n"
     ]
    }
   ],
   "source": [
    "fruits={'Apple', 'Mango', 'Grapes'}\n",
    "print(fruits)"
   ]
  },
  {
   "cell_type": "markdown",
   "id": "e1f45864",
   "metadata": {},
   "source": [
    "## Functions"
   ]
  },
  {
   "cell_type": "code",
   "execution_count": 5,
   "id": "fd27d02c",
   "metadata": {},
   "outputs": [
    {
     "name": "stdout",
     "output_type": "stream",
     "text": [
      "{'Grapes', 'banana', 'Apple', 'Mango'}\n"
     ]
    }
   ],
   "source": [
    "fruits.add('banana')\n",
    "print(fruits)"
   ]
  },
  {
   "cell_type": "code",
   "execution_count": 6,
   "id": "39df3ee0",
   "metadata": {},
   "outputs": [
    {
     "name": "stdout",
     "output_type": "stream",
     "text": [
      "{'k', 'banana', 'Mango', 'i', 'Grapes', 'Apple', 'w'}\n"
     ]
    }
   ],
   "source": [
    "fruits.update('kiwi')\n",
    "print(fruits)"
   ]
  },
  {
   "cell_type": "code",
   "execution_count": 21,
   "id": "64f29e61",
   "metadata": {},
   "outputs": [
    {
     "name": "stdout",
     "output_type": "stream",
     "text": [
      "{'Banana', 'Mango', 'Apple', 'Grapes', 'kiwi'}\n"
     ]
    }
   ],
   "source": [
    "fruits={'Apple', 'Mango', 'Grapes', 'Banana', 'kiwi'}\n",
    "print(fruits)"
   ]
  },
  {
   "cell_type": "code",
   "execution_count": 18,
   "id": "a4ca05cd",
   "metadata": {},
   "outputs": [
    {
     "name": "stdout",
     "output_type": "stream",
     "text": [
      "{'Banana', 'Mango', 'Grapes', 'kiwi'}\n"
     ]
    }
   ],
   "source": [
    "fruits.discard('Apple')\n",
    "print(fruits)"
   ]
  },
  {
   "cell_type": "code",
   "execution_count": 19,
   "id": "a75bc5f0",
   "metadata": {},
   "outputs": [
    {
     "name": "stdout",
     "output_type": "stream",
     "text": [
      "{'Banana', 'Mango', 'kiwi'}\n"
     ]
    }
   ],
   "source": [
    "fruits.remove('Grapes')\n",
    "print(fruits)"
   ]
  },
  {
   "cell_type": "code",
   "execution_count": 22,
   "id": "073e4671",
   "metadata": {},
   "outputs": [
    {
     "name": "stdout",
     "output_type": "stream",
     "text": [
      "{'Mango', 'Apple', 'Grapes', 'kiwi'}\n"
     ]
    }
   ],
   "source": [
    "fruits.pop()\n",
    "print(fruits)"
   ]
  },
  {
   "cell_type": "code",
   "execution_count": 23,
   "id": "8607be54",
   "metadata": {},
   "outputs": [
    {
     "data": {
      "text/plain": [
       "'kiwi'"
      ]
     },
     "execution_count": 23,
     "metadata": {},
     "output_type": "execute_result"
    }
   ],
   "source": [
    "fruits=['Apple', 'Mango', 'Grapes', 'Banana', 'kiwi']\n",
    "fruits.pop()"
   ]
  },
  {
   "cell_type": "markdown",
   "id": "8e79cb57",
   "metadata": {},
   "source": [
    "## Operation"
   ]
  },
  {
   "cell_type": "markdown",
   "id": "ea12a926",
   "metadata": {},
   "source": [
    "### union"
   ]
  },
  {
   "cell_type": "code",
   "execution_count": 24,
   "id": "23361c86",
   "metadata": {},
   "outputs": [
    {
     "name": "stdout",
     "output_type": "stream",
     "text": [
      "{1, 2, 3, 4, 5, 6}\n"
     ]
    }
   ],
   "source": [
    "my_set={1,2,3,4}\n",
    "my_set_2={3,4,5,6}\n",
    "print(my_set.union(my_set_2))"
   ]
  },
  {
   "cell_type": "code",
   "execution_count": 25,
   "id": "ceb38531",
   "metadata": {},
   "outputs": [
    {
     "name": "stdout",
     "output_type": "stream",
     "text": [
      "{1, 2, 3, 4, 5, 6}\n"
     ]
    }
   ],
   "source": [
    "#2nd method\n",
    "print(my_set | my_set_2)"
   ]
  },
  {
   "cell_type": "markdown",
   "id": "64cebfd9",
   "metadata": {},
   "source": [
    "### intersection"
   ]
  },
  {
   "cell_type": "code",
   "execution_count": 28,
   "id": "530d3343",
   "metadata": {},
   "outputs": [
    {
     "name": "stdout",
     "output_type": "stream",
     "text": [
      "{3, 4}\n"
     ]
    }
   ],
   "source": [
    "print(my_set.intersection(my_set_2))"
   ]
  },
  {
   "cell_type": "code",
   "execution_count": 27,
   "id": "33b85f78",
   "metadata": {},
   "outputs": [
    {
     "name": "stdout",
     "output_type": "stream",
     "text": [
      "{3, 4}\n"
     ]
    }
   ],
   "source": [
    "#2nd method\n",
    "print(my_set & my_set_2)"
   ]
  },
  {
   "cell_type": "markdown",
   "id": "2acd3b41",
   "metadata": {},
   "source": [
    "### Difference"
   ]
  },
  {
   "cell_type": "code",
   "execution_count": 29,
   "id": "3752ac49",
   "metadata": {},
   "outputs": [
    {
     "name": "stdout",
     "output_type": "stream",
     "text": [
      "{1, 2}\n"
     ]
    }
   ],
   "source": [
    "print(my_set.difference(my_set_2))"
   ]
  },
  {
   "cell_type": "code",
   "execution_count": 30,
   "id": "4f0ef759",
   "metadata": {},
   "outputs": [
    {
     "name": "stdout",
     "output_type": "stream",
     "text": [
      "{1, 2}\n"
     ]
    }
   ],
   "source": [
    "print(my_set - my_set_2)"
   ]
  },
  {
   "cell_type": "markdown",
   "id": "05e91a23",
   "metadata": {},
   "source": [
    "### Symmetric difference"
   ]
  },
  {
   "cell_type": "code",
   "execution_count": 31,
   "id": "1ee6bd56",
   "metadata": {
    "scrolled": true
   },
   "outputs": [
    {
     "name": "stdout",
     "output_type": "stream",
     "text": [
      "{1, 2, 5, 6}\n"
     ]
    }
   ],
   "source": [
    "print(my_set.symmetric_difference(my_set_2))"
   ]
  },
  {
   "cell_type": "code",
   "execution_count": 32,
   "id": "bf3a861a",
   "metadata": {},
   "outputs": [
    {
     "name": "stdout",
     "output_type": "stream",
     "text": [
      "{1, 2, 5, 6}\n"
     ]
    }
   ],
   "source": [
    "print(my_set ^ my_set_2)"
   ]
  },
  {
   "cell_type": "markdown",
   "id": "79e5c70b",
   "metadata": {},
   "source": [
    "### Clear"
   ]
  },
  {
   "cell_type": "code",
   "execution_count": 33,
   "id": "c352e0af",
   "metadata": {},
   "outputs": [
    {
     "name": "stdout",
     "output_type": "stream",
     "text": [
      "set()\n"
     ]
    }
   ],
   "source": [
    "my_set.clear()\n",
    "print(my_set)"
   ]
  },
  {
   "cell_type": "markdown",
   "id": "1ad51ded",
   "metadata": {},
   "source": [
    "### subset"
   ]
  },
  {
   "cell_type": "code",
   "execution_count": 34,
   "id": "60c17a35",
   "metadata": {},
   "outputs": [
    {
     "data": {
      "text/plain": [
       "True"
      ]
     },
     "execution_count": 34,
     "metadata": {},
     "output_type": "execute_result"
    }
   ],
   "source": [
    "a={4,5}\n",
    "b={1,2,3,4,5}\n",
    "a.issubset(b)"
   ]
  },
  {
   "cell_type": "code",
   "execution_count": 35,
   "id": "fcd7ada6",
   "metadata": {},
   "outputs": [
    {
     "data": {
      "text/plain": [
       "False"
      ]
     },
     "execution_count": 35,
     "metadata": {},
     "output_type": "execute_result"
    }
   ],
   "source": [
    "b.issubset(a)"
   ]
  },
  {
   "cell_type": "markdown",
   "id": "1dbf7cfd",
   "metadata": {},
   "source": [
    "### Using comparison operators"
   ]
  },
  {
   "cell_type": "code",
   "execution_count": 36,
   "id": "3437f58c",
   "metadata": {},
   "outputs": [
    {
     "data": {
      "text/plain": [
       "True"
      ]
     },
     "execution_count": 36,
     "metadata": {},
     "output_type": "execute_result"
    }
   ],
   "source": [
    "a={'a','b'}\n",
    "b={'a', 'b', 'c'}\n",
    "a<=b"
   ]
  },
  {
   "cell_type": "code",
   "execution_count": 37,
   "id": "9a031bb8",
   "metadata": {},
   "outputs": [
    {
     "data": {
      "text/plain": [
       "False"
      ]
     },
     "execution_count": 37,
     "metadata": {},
     "output_type": "execute_result"
    }
   ],
   "source": [
    "b<=a"
   ]
  },
  {
   "cell_type": "markdown",
   "id": "b23752af",
   "metadata": {},
   "source": [
    "### Superset"
   ]
  },
  {
   "cell_type": "code",
   "execution_count": 38,
   "id": "f4049568",
   "metadata": {},
   "outputs": [
    {
     "data": {
      "text/plain": [
       "False"
      ]
     },
     "execution_count": 38,
     "metadata": {},
     "output_type": "execute_result"
    }
   ],
   "source": [
    "a>=b"
   ]
  },
  {
   "cell_type": "code",
   "execution_count": 39,
   "id": "f50fc50b",
   "metadata": {},
   "outputs": [
    {
     "data": {
      "text/plain": [
       "True"
      ]
     },
     "execution_count": 39,
     "metadata": {},
     "output_type": "execute_result"
    }
   ],
   "source": [
    "b>=a"
   ]
  },
  {
   "cell_type": "markdown",
   "id": "51e2cbbf",
   "metadata": {},
   "source": [
    "### In and Not in"
   ]
  },
  {
   "cell_type": "code",
   "execution_count": 40,
   "id": "097b1fb1",
   "metadata": {},
   "outputs": [
    {
     "data": {
      "text/plain": [
       "True"
      ]
     },
     "execution_count": 40,
     "metadata": {},
     "output_type": "execute_result"
    }
   ],
   "source": [
    "s={5,7,9}\n",
    "5 in s"
   ]
  },
  {
   "cell_type": "code",
   "execution_count": 41,
   "id": "3bb327c5",
   "metadata": {},
   "outputs": [
    {
     "data": {
      "text/plain": [
       "False"
      ]
     },
     "execution_count": 41,
     "metadata": {},
     "output_type": "execute_result"
    }
   ],
   "source": [
    "6 in s"
   ]
  },
  {
   "cell_type": "code",
   "execution_count": 42,
   "id": "3d8b224c",
   "metadata": {},
   "outputs": [],
   "source": [
    "s={'x', 'y', 'z'}"
   ]
  },
  {
   "cell_type": "code",
   "execution_count": 43,
   "id": "1a9d96d2",
   "metadata": {},
   "outputs": [
    {
     "data": {
      "text/plain": [
       "True"
      ]
     },
     "execution_count": 43,
     "metadata": {},
     "output_type": "execute_result"
    }
   ],
   "source": [
    "'W' not in s"
   ]
  },
  {
   "cell_type": "code",
   "execution_count": 44,
   "id": "c87ed588",
   "metadata": {},
   "outputs": [
    {
     "data": {
      "text/plain": [
       "False"
      ]
     },
     "execution_count": 44,
     "metadata": {},
     "output_type": "execute_result"
    }
   ],
   "source": [
    "'x' not in s"
   ]
  },
  {
   "cell_type": "code",
   "execution_count": null,
   "id": "f56fc4cb",
   "metadata": {},
   "outputs": [],
   "source": []
  }
 ],
 "metadata": {
  "kernelspec": {
   "display_name": "Python 3 (ipykernel)",
   "language": "python",
   "name": "python3"
  },
  "language_info": {
   "codemirror_mode": {
    "name": "ipython",
    "version": 3
   },
   "file_extension": ".py",
   "mimetype": "text/x-python",
   "name": "python",
   "nbconvert_exporter": "python",
   "pygments_lexer": "ipython3",
   "version": "3.11.4"
  }
 },
 "nbformat": 4,
 "nbformat_minor": 5
}
