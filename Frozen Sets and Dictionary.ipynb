{
 "cells": [
  {
   "cell_type": "markdown",
   "id": "8404ec22",
   "metadata": {},
   "source": [
    "## Frozen Sets"
   ]
  },
  {
   "cell_type": "code",
   "execution_count": 1,
   "id": "82ce0e95",
   "metadata": {},
   "outputs": [
    {
     "name": "stdout",
     "output_type": "stream",
     "text": [
      "frozenset objects is: frozenset({1, 2, 3, 4, 5, 6, 7, 8, 9})\n"
     ]
    }
   ],
   "source": [
    "nu=[1,2,3,4,5,6,7,8,9]       #list of numbers\n",
    "fnum=frozenset(nu)           #converting list to frozenset\n",
    "print(\"frozenset objects is:\", fnum)       #printing details"
   ]
  },
  {
   "cell_type": "markdown",
   "id": "b67f9bbf",
   "metadata": {},
   "source": [
    "## Dictionary"
   ]
  },
  {
   "cell_type": "code",
   "execution_count": 2,
   "id": "d95dd9a4",
   "metadata": {},
   "outputs": [
    {
     "name": "stdout",
     "output_type": "stream",
     "text": [
      "{'Name': 'Jax', 'Age': '17'}\n"
     ]
    }
   ],
   "source": [
    "Dog={'Name' : 'Jax', 'Age' : '17'}\n",
    "print(Dog)"
   ]
  },
  {
   "cell_type": "code",
   "execution_count": 3,
   "id": "8ea623f1",
   "metadata": {},
   "outputs": [
    {
     "name": "stdout",
     "output_type": "stream",
     "text": [
      "{'Name': 'Jax', 'Age': '17', 'Color': 'Brown'}\n"
     ]
    }
   ],
   "source": [
    "dog={'Name' : 'Jax', 'Age' : '17', 'Color':'Brown'}\n",
    "print(dog)"
   ]
  },
  {
   "cell_type": "markdown",
   "id": "9d42201c",
   "metadata": {},
   "source": [
    "### Add an item"
   ]
  },
  {
   "cell_type": "code",
   "execution_count": 4,
   "id": "a0227c6b",
   "metadata": {},
   "outputs": [
    {
     "name": "stdout",
     "output_type": "stream",
     "text": [
      "{'Name': 'Jax', 'Age': '17', 'Color': 'Brown', 'weight': 90}\n"
     ]
    }
   ],
   "source": [
    "dog['weight']=90\n",
    "print(dog)"
   ]
  },
  {
   "cell_type": "markdown",
   "id": "e0a4952c",
   "metadata": {},
   "source": [
    "### Modify the value"
   ]
  },
  {
   "cell_type": "code",
   "execution_count": 5,
   "id": "8da75a57",
   "metadata": {},
   "outputs": [
    {
     "name": "stdout",
     "output_type": "stream",
     "text": [
      "{'Name': 'Jax', 'Age': 20, 'Color': 'Brown', 'weight': 90}\n"
     ]
    }
   ],
   "source": [
    "dog['Age']=20\n",
    "print(dog)"
   ]
  },
  {
   "cell_type": "markdown",
   "id": "db5f4e85",
   "metadata": {},
   "source": [
    "### len of dictionary"
   ]
  },
  {
   "cell_type": "code",
   "execution_count": 6,
   "id": "88b745f6",
   "metadata": {},
   "outputs": [
    {
     "name": "stdout",
     "output_type": "stream",
     "text": [
      "4\n"
     ]
    }
   ],
   "source": [
    "print(len(dog))"
   ]
  },
  {
   "cell_type": "markdown",
   "id": "3d1d8161",
   "metadata": {},
   "source": [
    "### only keys"
   ]
  },
  {
   "cell_type": "code",
   "execution_count": 7,
   "id": "6e890f62",
   "metadata": {},
   "outputs": [
    {
     "name": "stdout",
     "output_type": "stream",
     "text": [
      "dict_keys(['Name', 'Age', 'Color', 'weight'])\n"
     ]
    }
   ],
   "source": [
    "print(dog.keys())"
   ]
  },
  {
   "cell_type": "markdown",
   "id": "29ed5c0e",
   "metadata": {},
   "source": [
    "### only value"
   ]
  },
  {
   "cell_type": "code",
   "execution_count": 8,
   "id": "3150fd37",
   "metadata": {},
   "outputs": [
    {
     "name": "stdout",
     "output_type": "stream",
     "text": [
      "dict_values(['Jax', 20, 'Brown', 90])\n"
     ]
    }
   ],
   "source": [
    "print(dog.values())"
   ]
  },
  {
   "cell_type": "markdown",
   "id": "c966dd81",
   "metadata": {},
   "source": [
    "### get item"
   ]
  },
  {
   "cell_type": "code",
   "execution_count": 9,
   "id": "027f0c3f",
   "metadata": {},
   "outputs": [
    {
     "name": "stdout",
     "output_type": "stream",
     "text": [
      "dict_items([('Name', 'Jax'), ('Age', 20), ('Color', 'Brown'), ('weight', 90)])\n"
     ]
    }
   ],
   "source": [
    "print(dog.items())"
   ]
  },
  {
   "cell_type": "markdown",
   "id": "c1ccf5b3",
   "metadata": {},
   "source": [
    "## Removing"
   ]
  },
  {
   "cell_type": "code",
   "execution_count": 18,
   "id": "73a493e2",
   "metadata": {},
   "outputs": [
    {
     "name": "stdout",
     "output_type": "stream",
     "text": [
      "{'Name': 'Jax', 'Age': '17', 'Color': 'Brown', 'height': '6', 'weight': '90'}\n"
     ]
    }
   ],
   "source": [
    "dog={'Name' : 'Jax', 'Age' : '17', 'Color':'Brown', 'height' : '6', 'weight' : '90'}\n",
    "print(dog)"
   ]
  },
  {
   "cell_type": "markdown",
   "id": "20e32938",
   "metadata": {},
   "source": [
    "### pop"
   ]
  },
  {
   "cell_type": "code",
   "execution_count": 13,
   "id": "78c33484",
   "metadata": {},
   "outputs": [
    {
     "name": "stdout",
     "output_type": "stream",
     "text": [
      "{'Name': 'Jax', 'Age': '17', 'height': '6', 'weight': '90'}\n"
     ]
    }
   ],
   "source": [
    "dog.pop('Color')\n",
    "print(dog)"
   ]
  },
  {
   "cell_type": "markdown",
   "id": "027b2375",
   "metadata": {},
   "source": [
    "### popitem"
   ]
  },
  {
   "cell_type": "code",
   "execution_count": 14,
   "id": "844554ab",
   "metadata": {},
   "outputs": [
    {
     "name": "stdout",
     "output_type": "stream",
     "text": [
      "{'Name': 'Jax', 'Age': '17', 'height': '6'}\n"
     ]
    }
   ],
   "source": [
    "dog.popitem()\n",
    "print(dog)"
   ]
  },
  {
   "cell_type": "markdown",
   "id": "1e9d97a1",
   "metadata": {},
   "source": [
    "### Delete"
   ]
  },
  {
   "cell_type": "code",
   "execution_count": 19,
   "id": "8d37f577",
   "metadata": {},
   "outputs": [
    {
     "name": "stdout",
     "output_type": "stream",
     "text": [
      "{'Name': 'Jax', 'Color': 'Brown', 'height': '6', 'weight': '90'}\n"
     ]
    }
   ],
   "source": [
    "del dog['Age']\n",
    "print(dog)"
   ]
  },
  {
   "cell_type": "markdown",
   "id": "617fd93b",
   "metadata": {},
   "source": [
    "### Clear"
   ]
  },
  {
   "cell_type": "code",
   "execution_count": 21,
   "id": "932d2969",
   "metadata": {},
   "outputs": [
    {
     "name": "stdout",
     "output_type": "stream",
     "text": [
      "{}\n"
     ]
    }
   ],
   "source": [
    "dog.clear()\n",
    "print(dog)"
   ]
  },
  {
   "cell_type": "code",
   "execution_count": null,
   "id": "f203fc4d",
   "metadata": {},
   "outputs": [],
   "source": []
  }
 ],
 "metadata": {
  "kernelspec": {
   "display_name": "Python 3 (ipykernel)",
   "language": "python",
   "name": "python3"
  },
  "language_info": {
   "codemirror_mode": {
    "name": "ipython",
    "version": 3
   },
   "file_extension": ".py",
   "mimetype": "text/x-python",
   "name": "python",
   "nbconvert_exporter": "python",
   "pygments_lexer": "ipython3",
   "version": "3.11.4"
  }
 },
 "nbformat": 4,
 "nbformat_minor": 5
}
